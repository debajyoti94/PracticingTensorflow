{
 "cells": [
  {
   "cell_type": "markdown",
   "metadata": {},
   "source": [
    "#### In this notebook we will model a sine wave using RNN\n",
    "***"
   ]
  },
  {
   "cell_type": "code",
   "execution_count": 2,
   "metadata": {},
   "outputs": [],
   "source": [
    "import pandas as pd\n",
    "import numpy as np\n",
    "from matplotlib import pyplot as plt"
   ]
  },
  {
   "cell_type": "code",
   "execution_count": 3,
   "metadata": {},
   "outputs": [],
   "source": [
    "x = np.linspace(0,50,501)\n",
    "y = np.sin(x)"
   ]
  },
  {
   "cell_type": "code",
   "execution_count": 6,
   "metadata": {},
   "outputs": [
    {
     "data": {
      "text/plain": [
       "[<matplotlib.lines.Line2D at 0x7fadda6a7160>]"
      ]
     },
     "execution_count": 6,
     "metadata": {},
     "output_type": "execute_result"
    },
    {
     "data": {
      "image/png": "[encoded data removed]",
      "text/plain": [
       "<Figure size 432x288 with 1 Axes>"
      ]
     },
     "metadata": {
      "needs_background": "light"
     },
     "output_type": "display_data"
    }
   ],
   "source": [
    "# plotting the sin wave\n",
    "plt.grid()\n",
    "plt.plot(x,y)"
   ]
  },
  {
   "cell_type": "code",
   "execution_count": 8,
   "metadata": {},
   "outputs": [],
   "source": [
    "# making this a dataframe\n",
    "sin_df = pd.DataFrame(data=y, index=x, columns=['Sine'])"
   ]
  },
  {
   "cell_type": "code",
   "execution_count": 11,
   "metadata": {},
   "outputs": [
    {
     "data": {
      "text/html": [
       "<div>\n",
       "<style scoped>\n",
       "    .dataframe tbody tr th:only-of-type {\n",
       "        vertical-align: middle;\n",
       "    }\n",
       "\n",
       "    .dataframe tbody tr th {\n",
       "        vertical-align: top;\n",
       "    }\n",
       "\n",
       "    .dataframe thead th {\n",
       "        text-align: right;\n",
       "    }\n",
       "</style>\n",
       "<table border=\"1\" class=\"dataframe\">\n",
       "  <thead>\n",
       "    <tr style=\"text-align: right;\">\n",
       "      <th></th>\n",
       "      <th>Sine</th>\n",
       "    </tr>\n",
       "  </thead>\n",
       "  <tbody>\n",
       "    <tr>\n",
       "      <th>0.0</th>\n",
       "      <td>0.000000</td>\n",
       "    </tr>\n",
       "    <tr>\n",
       "      <th>0.1</th>\n",
       "      <td>0.099833</td>\n",
       "    </tr>\n",
       "    <tr>\n",
       "      <th>0.2</th>\n",
       "      <td>0.198669</td>\n",
       "    </tr>\n",
       "    <tr>\n",
       "      <th>0.3</th>\n",
       "      <td>0.295520</td>\n",
       "    </tr>\n",
       "    <tr>\n",
       "      <th>0.4</th>\n",
       "      <td>0.389418</td>\n",
       "    </tr>\n",
       "  </tbody>\n",
       "</table>\n",
       "</div>"
      ],
      "text/plain": [
       "         Sine\n",
       "0.0  0.000000\n",
       "0.1  0.099833\n",
       "0.2  0.198669\n",
       "0.3  0.295520\n",
       "0.4  0.389418"
      ]
     },
     "execution_count": 11,
     "metadata": {},
     "output_type": "execute_result"
    }
   ],
   "source": [
    "sin_df.head()"
   ]
  },
  {
   "cell_type": "code",
   "execution_count": 15,
   "metadata": {},
   "outputs": [],
   "source": [
    "# now we will split the dataset to train and test\n",
    "test_percent = 0.1\n",
    "test_point = test_percent * len(sin_df)\n",
    "\n",
    "train_set = sin_df.iloc[:int(len(sin_df) - test_point)]\n",
    "test_set = sin_df.iloc[int(len(sin_df) - test_point):]"
   ]
  },
  {
   "cell_type": "code",
   "execution_count": 17,
   "metadata": {},
   "outputs": [
    {
     "data": {
      "text/plain": [
       "((450, 1), (51, 1))"
      ]
     },
     "execution_count": 17,
     "metadata": {},
     "output_type": "execute_result"
    }
   ],
   "source": [
    "train_set.shape, test_set.shape"
   ]
  },
  {
   "cell_type": "code",
   "execution_count": 18,
   "metadata": {},
   "outputs": [],
   "source": [
    "# we will scale the y target here as in RNN the output goes back to the neuron as input\n",
    "from sklearn.preprocessing import MinMaxScaler\n",
    "\n",
    "scaler = MinMaxScaler()"
   ]
  },
  {
   "cell_type": "code",
   "execution_count": 20,
   "metadata": {},
   "outputs": [],
   "source": [
    "scaled_train = scaler.fit_transform(train_set)\n",
    "scaled_test = scaler.transform(test_set)"
   ]
  },
  {
   "cell_type": "code",
   "execution_count": 41,
   "metadata": {},
   "outputs": [],
   "source": [
    "# now we will use tensorflow to create a batch generator for training RNN model\n",
    "from keras.preprocessing.sequence import TimeseriesGenerator\n",
    "\n",
    "length = 50\n",
    "batch_size=1\n",
    "# we will use the TimeSeriesGenerator to generate data for training the model\n",
    "generator = TimeseriesGenerator(data=scaled_train, targets=scaled_train, length=length,\n",
    "                               batch_size=batch_size)"
   ]
  },
  {
   "cell_type": "code",
   "execution_count": 42,
   "metadata": {},
   "outputs": [
    {
     "data": {
      "text/plain": [
       "400"
      ]
     },
     "execution_count": 42,
     "metadata": {},
     "output_type": "execute_result"
    }
   ],
   "source": [
    "len(generator)"
   ]
  },
  {
   "cell_type": "code",
   "execution_count": 55,
   "metadata": {},
   "outputs": [
    {
     "data": {
      "text/plain": [
       "(array([[[4.99999116e-01],\n",
       "         [5.49916225e-01],\n",
       "         [5.99334579e-01],\n",
       "         [6.47760405e-01],\n",
       "         [6.94709850e-01],\n",
       "         [7.39713809e-01],\n",
       "         [7.82322618e-01],\n",
       "         [8.22110545e-01],\n",
       "         [8.58680040e-01],\n",
       "         [8.91665714e-01],\n",
       "         [9.20737985e-01],\n",
       "         [9.45606372e-01],\n",
       "         [9.66022399e-01],\n",
       "         [9.81782075e-01],\n",
       "         [9.92727935e-01],\n",
       "         [9.98750612e-01],\n",
       "         [9.99789928e-01],\n",
       "         [9.95835500e-01],\n",
       "         [9.86926839e-01],\n",
       "         [9.73152957e-01],\n",
       "         [9.54651478e-01],\n",
       "         [9.31607263e-01],\n",
       "         [9.04250562e-01],\n",
       "         [8.72854714e-01],\n",
       "         [8.37733417e-01],\n",
       "         [7.99237589e-01],\n",
       "         [7.57751870e-01],\n",
       "         [7.13690771e-01],\n",
       "         [6.67494535e-01],\n",
       "         [6.19624741e-01],\n",
       "         [5.70559686e-01],\n",
       "         [5.20789614e-01],\n",
       "         [4.70811810e-01],\n",
       "         [4.21125636e-01],\n",
       "         [3.72227539e-01],\n",
       "         [3.24606094e-01],\n",
       "         [2.78737119e-01],\n",
       "         [2.35078919e-01],\n",
       "         [1.94067715e-01],\n",
       "         [1.56113277e-01],\n",
       "         [1.21594831e-01],\n",
       "         [9.08572769e-02],\n",
       "         [6.42077324e-02],\n",
       "         [4.19124713e-02],\n",
       "         [2.41942605e-02],\n",
       "         [1.12301346e-02],\n",
       "         [3.14962674e-03],\n",
       "         [3.34747619e-05],\n",
       "         [1.91281421e-03],\n",
       "         [8.76886734e-03]]]),\n",
       " array([[0.02053313]]))"
      ]
     },
     "execution_count": 55,
     "metadata": {},
     "output_type": "execute_result"
    }
   ],
   "source": [
    "# contains the first 25 values as x and y= 26th value\n",
    "generator[0]\n",
    "# the input is in 3 dimensions,\n",
    "# hence during model prediction we have to give the input in the same format"
   ]
  },
  {
   "cell_type": "code",
   "execution_count": 32,
   "metadata": {},
   "outputs": [],
   "source": [
    "# we will create the model here\n",
    "from keras.models import Sequential\n",
    "from keras.layers import Dense, SimpleRNN, LSTM"
   ]
  },
  {
   "cell_type": "code",
   "execution_count": 44,
   "metadata": {},
   "outputs": [],
   "source": [
    "n_features = 1\n",
    "\n",
    "model = Sequential()\n",
    "\n",
    "model.add(SimpleRNN(units=50, input_shape=(length, n_features)))\n",
    "model.add(Dense(1))\n",
    "\n",
    "model.compile(optimizer='adam', loss='mse')"
   ]
  },
  {
   "cell_type": "code",
   "execution_count": 45,
   "metadata": {},
   "outputs": [
    {
     "name": "stdout",
     "output_type": "stream",
     "text": [
      "_________________________________________________________________\n",
      "Layer (type)                 Output Shape              Param #   \n",
      "=================================================================\n",
      "simple_rnn_2 (SimpleRNN)     (None, 50)                2600      \n",
      "_________________________________________________________________\n",
      "dense_2 (Dense)              (None, 1)                 51        \n",
      "=================================================================\n",
      "Total params: 2,651\n",
      "Trainable params: 2,651\n",
      "Non-trainable params: 0\n",
      "_________________________________________________________________\n"
     ]
    }
   ],
   "source": [
    "model.summary()"
   ]
  },
  {
   "cell_type": "code",
   "execution_count": 46,
   "metadata": {},
   "outputs": [
    {
     "name": "stdout",
     "output_type": "stream",
     "text": [
      "Epoch 1/5\n",
      "400/400 [==============================] - 9s 24ms/step - loss: 0.0052\n",
      "Epoch 2/5\n",
      "400/400 [==============================] - 9s 23ms/step - loss: 3.3717e-05\n",
      "Epoch 3/5\n",
      "400/400 [==============================] - 9s 22ms/step - loss: 7.7794e-04\n",
      "Epoch 4/5\n",
      "400/400 [==============================] - 9s 21ms/step - loss: 6.9834e-05\n",
      "Epoch 5/5\n",
      "400/400 [==============================] - 9s 23ms/step - loss: 2.0413e-05\n"
     ]
    },
    {
     "data": {
      "text/plain": [
       "<keras.callbacks.History at 0x7fadd24df2e8>"
      ]
     },
     "execution_count": 46,
     "metadata": {},
     "output_type": "execute_result"
    }
   ],
   "source": [
    "model.fit_generator(generator, epochs=5)"
   ]
  },
  {
   "cell_type": "code",
   "execution_count": 47,
   "metadata": {},
   "outputs": [],
   "source": [
    "losses_df = pd.DataFrame(model.history.history)"
   ]
  },
  {
   "cell_type": "code",
   "execution_count": 49,
   "metadata": {},
   "outputs": [
    {
     "data": {
      "text/plain": [
       "<matplotlib.axes._subplots.AxesSubplot at 0x7fadfcfc7470>"
      ]
     },
     "execution_count": 49,
     "metadata": {},
     "output_type": "execute_result"
    },
    {
     "data": {
      "image/png": "[encoded data removed]",
      "text/plain": [
       "<Figure size 432x288 with 1 Axes>"
      ]
     },
     "metadata": {
      "needs_background": "light"
     },
     "output_type": "display_data"
    }
   ],
   "source": [
    "losses_df.plot()"
   ]
  },
  {
   "cell_type": "code",
   "execution_count": 91,
   "metadata": {},
   "outputs": [],
   "source": [
    "# now evaluate on test data\n",
    "# in order to get the predictions we have to give the model historical data\n",
    "# that will be the last data points from our train set\n",
    "# folowing that we will include our predictions in the train set \n",
    "# till all the input points are the predictions\n",
    "\n",
    "test_predictions = []\n",
    "\n",
    "# get the last 50 data points\n",
    "first_eval_batch = scaled_train[-length:]\n",
    "current_batch = first_eval_batch.reshape((1,length,1))"
   ]
  },
  {
   "cell_type": "code",
   "execution_count": 92,
   "metadata": {},
   "outputs": [],
   "source": [
    "for i in range(len(test_set)):\n",
    "    current_pred = model.predict(current_batch)[0]\n",
    "    \n",
    "    test_predictions.append(current_pred)\n",
    "\n",
    "    current_batch = np.append(current_batch[:,1:,:], [[current_pred]], axis=1)"
   ]
  },
  {
   "cell_type": "code",
   "execution_count": 93,
   "metadata": {},
   "outputs": [
    {
     "data": {
      "text/plain": [
       "[array([0.9336943], dtype=float32),\n",
       " array([0.9581292], dtype=float32),\n",
       " array([0.97805893], dtype=float32),\n",
       " array([0.9957723], dtype=float32),\n",
       " array([1.0102737], dtype=float32),\n",
       " array([1.0169605], dtype=float32),\n",
       " array([1.0164012], dtype=float32),\n",
       " array([1.0131549], dtype=float32),\n",
       " array([1.0054591], dtype=float32),\n",
       " array([0.99117804], dtype=float32),\n",
       " array([0.97100323], dtype=float32),\n",
       " array([0.9483192], dtype=float32),\n",
       " array([0.9213879], dtype=float32),\n",
       " array([0.8896997], dtype=float32),\n",
       " array([0.85505927], dtype=float32),\n",
       " array([0.81711423], dtype=float32),\n",
       " array([0.77610064], dtype=float32),\n",
       " array([0.7323877], dtype=float32),\n",
       " array([0.6869126], dtype=float32),\n",
       " array([0.6395856], dtype=float32),\n",
       " array([0.58995146], dtype=float32),\n",
       " array([0.53984904], dtype=float32),\n",
       " array([0.4898057], dtype=float32),\n",
       " array([0.43865922], dtype=float32),\n",
       " array([0.38826126], dtype=float32),\n",
       " array([0.3388362], dtype=float32),\n",
       " array([0.2910748], dtype=float32),\n",
       " array([0.24537253], dtype=float32),\n",
       " array([0.20236099], dtype=float32),\n",
       " array([0.1626538], dtype=float32),\n",
       " array([0.12611307], dtype=float32),\n",
       " array([0.09369572], dtype=float32),\n",
       " array([0.06615496], dtype=float32),\n",
       " array([0.04266351], dtype=float32),\n",
       " array([0.02362783], dtype=float32),\n",
       " array([0.00981355], dtype=float32),\n",
       " array([0.00123847], dtype=float32),\n",
       " array([-0.00254837], dtype=float32),\n",
       " array([-0.00149289], dtype=float32),\n",
       " array([0.00464611], dtype=float32),\n",
       " array([0.01626222], dtype=float32),\n",
       " array([0.03253644], dtype=float32),\n",
       " array([0.05327082], dtype=float32),\n",
       " array([0.07917833], dtype=float32),\n",
       " array([0.10929592], dtype=float32),\n",
       " array([0.14355507], dtype=float32),\n",
       " array([0.181355], dtype=float32),\n",
       " array([0.22220248], dtype=float32),\n",
       " array([0.2661582], dtype=float32),\n",
       " array([0.31191796], dtype=float32),\n",
       " array([0.35917377], dtype=float32)]"
      ]
     },
     "execution_count": 93,
     "metadata": {},
     "output_type": "execute_result"
    }
   ],
   "source": [
    "test_predictions"
   ]
  },
  {
   "cell_type": "code",
   "execution_count": 94,
   "metadata": {},
   "outputs": [],
   "source": [
    "# we need to compare test predictions to actual test\n",
    "true_predictions = scaler.inverse_transform(test_predictions)"
   ]
  },
  {
   "cell_type": "code",
   "execution_count": 95,
   "metadata": {},
   "outputs": [
    {
     "data": {
      "text/plain": [
       "51"
      ]
     },
     "execution_count": 95,
     "metadata": {},
     "output_type": "execute_result"
    }
   ],
   "source": [
    "len(true_predictions)"
   ]
  },
  {
   "cell_type": "code",
   "execution_count": 97,
   "metadata": {},
   "outputs": [
    {
     "name": "stderr",
     "output_type": "stream",
     "text": [
      "/home/deb/anaconda3/lib/python3.6/site-packages/ipykernel_launcher.py:1: SettingWithCopyWarning: \n",
      "A value is trying to be set on a copy of a slice from a DataFrame.\n",
      "Try using .loc[row_indexer,col_indexer] = value instead\n",
      "\n",
      "See the caveats in the documentation: http://pandas.pydata.org/pandas-docs/stable/indexing.html#indexing-view-versus-copy\n",
      "  \"\"\"Entry point for launching an IPython kernel.\n"
     ]
    }
   ],
   "source": [
    "test_set['predictions'] = true_predictions"
   ]
  },
  {
   "cell_type": "code",
   "execution_count": 99,
   "metadata": {},
   "outputs": [
    {
     "data": {
      "text/plain": [
       "<matplotlib.axes._subplots.AxesSubplot at 0x7fadfcf007b8>"
      ]
     },
     "execution_count": 99,
     "metadata": {},
     "output_type": "execute_result"
    },
    {
     "data": {
      "image/png": "[encoded data removed]",
      "text/plain": [
       "<Figure size 432x288 with 1 Axes>"
      ]
     },
     "metadata": {
      "needs_background": "light"
     },
     "output_type": "display_data"
    }
   ],
   "source": [
    "test_set.plot()"
   ]
  },
  {
   "cell_type": "code",
   "execution_count": 100,
   "metadata": {},
   "outputs": [
    {
     "name": "stdout",
     "output_type": "stream",
     "text": [
      "Help on function Input in module keras.engine.input_layer:\n",
      "\n",
      "Input(shape=None, batch_shape=None, name=None, dtype=None, sparse=False, tensor=None)\n",
      "    `Input()` is used to instantiate a Keras tensor.\n",
      "    \n",
      "    A Keras tensor is a tensor object from the underlying backend\n",
      "    (Theano, TensorFlow or CNTK), which we augment with certain\n",
      "    attributes that allow us to build a Keras model\n",
      "    just by knowing the inputs and outputs of the model.\n",
      "    \n",
      "    For instance, if a, b and c are Keras tensors,\n",
      "    it becomes possible to do:\n",
      "    `model = Model(input=[a, b], output=c)`\n",
      "    \n",
      "    The added Keras attributes are:\n",
      "        `_keras_shape`: Integer shape tuple propagated\n",
      "            via Keras-side shape inference.\n",
      "        `_keras_history`: Last layer applied to the tensor.\n",
      "            the entire layer graph is retrievable from that layer,\n",
      "            recursively.\n",
      "    \n",
      "    # Arguments\n",
      "        shape: A shape tuple (integer), not including the batch size.\n",
      "            For instance, `shape=(32,)` indicates that the expected input\n",
      "            will be batches of 32-dimensional vectors.\n",
      "        batch_shape: A shape tuple (integer), including the batch size.\n",
      "            For instance, `batch_shape=(10, 32)` indicates that\n",
      "            the expected input will be batches of 10 32-dimensional vectors.\n",
      "            `batch_shape=(None, 32)` indicates batches of an arbitrary number\n",
      "            of 32-dimensional vectors.\n",
      "        name: An optional name string for the layer.\n",
      "            Should be unique in a model (do not reuse the same name twice).\n",
      "            It will be autogenerated if it isn't provided.\n",
      "        dtype: The data type expected by the input, as a string\n",
      "            (`float32`, `float64`, `int32`...)\n",
      "        sparse: A boolean specifying whether the placeholder\n",
      "            to be created is sparse.\n",
      "        tensor: Optional existing tensor to wrap into the `Input` layer.\n",
      "            If set, the layer will not create a placeholder tensor.\n",
      "    \n",
      "    # Returns\n",
      "        A tensor.\n",
      "    \n",
      "    # Example\n",
      "    \n",
      "    ```python\n",
      "    # this is a logistic regression in Keras\n",
      "    x = Input(shape=(32,))\n",
      "    y = Dense(16, activation='softmax')(x)\n",
      "    model = Model(x, y)\n",
      "    ```\n",
      "\n"
     ]
    }
   ],
   "source": [
    "from keras.layers import Input\n",
    "\n",
    "help(Input)"
   ]
  }
 ],
 "metadata": {
  "kernelspec": {
   "display_name": "Python 3",
   "language": "python",
   "name": "python3"
  },
  "language_info": {
   "codemirror_mode": {
    "name": "ipython",
    "version": 3
   },
   "file_extension": ".py",
   "mimetype": "text/x-python",
   "name": "python",
   "nbconvert_exporter": "python",
   "pygments_lexer": "ipython3",
   "version": "3.6.12"
  }
 },
 "nbformat": 4,
 "nbformat_minor": 4
}
